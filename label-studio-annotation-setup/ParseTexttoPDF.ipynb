{
 "cells": [
  {
   "cell_type": "code",
   "execution_count": null,
   "id": "b04fdd33",
   "metadata": {},
   "outputs": [],
   "source": [
    "import os\n",
    "import glob\n",
    "from fpdf import FPDF\n",
    "import textwrap\n",
    "import chardet\n",
    "import textwrap\n",
    "from itertools import zip_longest\n",
    "import re\n",
    "from PyPDF2 import PdfReader, PdfWriter\n",
    "from pdf2image import convert_from_path\n",
    "\n"
   ]
  },
  {
   "cell_type": "code",
   "execution_count": null,
   "id": "949da746",
   "metadata": {},
   "outputs": [],
   "source": [
    "input_pdf = \"constitution.pdf\"\n",
    "output_folder = \"book_pages\"\n",
    "\n",
    "os.makedirs(output_folder, exist_ok=True)\n",
    "pages = convert_from_path(input_pdf, dpi=300)"
   ]
  },
  {
   "cell_type": "code",
   "execution_count": null,
   "id": "5cfb24c7",
   "metadata": {},
   "outputs": [],
   "source": [
    "for i, page in enumerate(pages, start=1):\n",
    "    output_path = os.path.join(output_folder, f\"page_{i}.jpg\")\n",
    "    page.save(output_path, \"JPEG\")\n",
    "    print(f\"Saved {output_path}\")\n"
   ]
  },
  {
   "cell_type": "code",
   "execution_count": null,
   "id": "8000bc25",
   "metadata": {},
   "outputs": [],
   "source": [
    "import os\n",
    "\n",
    "def rename_images(directory):\n",
    "    # Get only image files (jpg, png, jpeg)\n",
    "    files = [f for f in os.listdir(directory) if f.lower().endswith(('.jpg', '.jpeg', '.png'))]\n",
    "    files.sort()  # Ensure consistent ordering\n",
    "\n",
    "    for idx, filename in enumerate(files):\n",
    "        ext = os.path.splitext(filename)[1].lower()\n",
    "        new_name = f\"{idx}_page{ext}\"\n",
    "        src = os.path.join(directory, filename)\n",
    "        dst = os.path.join(directory, new_name)\n",
    "\n",
    "        os.rename(src, dst)\n",
    "        print(f\"Renamed {filename} -> {new_name}\")\n",
    "\n",
    "directory = \"/home/nikunj/Desktop/NepaliDevanagariText\"\n",
    "rename_images(directory)\n"
   ]
  },
  {
   "cell_type": "code",
   "execution_count": null,
   "id": "f5d5b722",
   "metadata": {},
   "outputs": [],
   "source": [
    "import os\n",
    "import json\n",
    "\n",
    "def make_json(directory, output_file=\"dataset.json\"):\n",
    "    files = [f for f in os.listdir(directory) if f.lower().endswith(('.jpg', '.jpeg', '.png'))]\n",
    "    files.sort()  # Ensure order by index\n",
    "\n",
    "    tasks = []\n",
    "    for f in files:\n",
    "        tasks.append({\"data\": {\"image\": f\"/data/local-files?d=/label-studio/data/NepaliDevanagariText/{f}\"}})\n",
    "\n",
    "    with open(output_file, \"w\") as out:\n",
    "        json.dump(tasks, out, indent=2)\n",
    "\n",
    "    print(f\"Saved dataset JSON with {len(tasks)} items -> {output_file}\")\n",
    "if __name__ == \"__main__\":\n",
    "    directory = \"/home/nikunj/Desktop/NepaliDevanagariText\"  # <-- change if needed\n",
    "    make_json(directory)\n"
   ]
  }
 ],
 "metadata": {
  "kernelspec": {
   "display_name": "base",
   "language": "python",
   "name": "python3"
  },
  "language_info": {
   "codemirror_mode": {
    "name": "ipython",
    "version": 3
   },
   "file_extension": ".py",
   "mimetype": "text/x-python",
   "name": "python",
   "nbconvert_exporter": "python",
   "pygments_lexer": "ipython3",
   "version": "3.13.7"
  }
 },
 "nbformat": 4,
 "nbformat_minor": 5
}
