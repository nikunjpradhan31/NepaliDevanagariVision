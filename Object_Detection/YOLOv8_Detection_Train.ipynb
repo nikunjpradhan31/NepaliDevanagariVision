{
 "cells": [
  {
   "cell_type": "code",
   "execution_count": null,
   "metadata": {},
   "outputs": [
    {
     "name": "stdout",
     "output_type": "stream",
     "text": [
      "✅ Dataset split complete! Saved in 'data'\n",
      "Train: 56, Val: 7, Test: 8\n"
     ]
    }
   ],
   "source": [
    "import os\n",
    "import random\n",
    "import shutil\n",
    "\n",
    "def split_yolo_dataset(\n",
    "    labels_dir=\"dataset/labels\",\n",
    "    images_dir=\"NepaliDevanagariText\",\n",
    "    output_dir=\"data\",\n",
    "    train_ratio=0.8,\n",
    "    val_ratio=0.1,\n",
    "    test_ratio=0.1,\n",
    "):\n",
    "    \"\"\"\n",
    "    Splits annotated YOLO OBB dataset into train/val/test sets in 8:1:1 ratio.\n",
    "    - labels_dir: where YOLO .txt annotation files live\n",
    "    - images_dir: where the actual images are stored\n",
    "    - output_dir: where the new YOLO dataset will be created\n",
    "    \"\"\"\n",
    "\n",
    "\n",
    "    # Create output structure\n",
    "    for split in [\"train\", \"val\", \"test\"]:\n",
    "        os.makedirs(os.path.join(output_dir, \"images\", split), exist_ok=True)\n",
    "        os.makedirs(os.path.join(output_dir, \"labels\", split), exist_ok=True)\n",
    "\n",
    "    # Get all annotation files\n",
    "    label_files = [f for f in os.listdir(labels_dir) if f.endswith(\".txt\")]\n",
    "    random.shuffle(label_files)\n",
    "\n",
    "    # Split sizes\n",
    "    total = len(label_files)\n",
    "    train_end = int(total * train_ratio)\n",
    "    val_end = train_end + int(total * val_ratio)\n",
    "\n",
    "    splits = {\n",
    "        \"train\": label_files[:train_end],\n",
    "        \"val\": label_files[train_end:val_end],\n",
    "        \"test\": label_files[val_end:]\n",
    "    }\n",
    "\n",
    "    # Copy files\n",
    "    for split, files in splits.items():\n",
    "        for label_file in files:\n",
    "            label_src = os.path.join(labels_dir, label_file)\n",
    "            label_dst = os.path.join(output_dir, \"labels\", split, label_file)\n",
    "\n",
    "            shutil.copy(label_src, label_dst)\n",
    "\n",
    "            # Find corresponding image\n",
    "            base_name = os.path.splitext(label_file)[0]\n",
    "            img_extensions = [\".jpg\", \".jpeg\", \".png\"]\n",
    "\n",
    "            img_found = False\n",
    "            for ext in img_extensions:\n",
    "                img_src = os.path.join(images_dir, base_name + ext)\n",
    "                if os.path.exists(img_src):\n",
    "                    img_dst = os.path.join(output_dir, \"images\", split, base_name + ext)\n",
    "                    shutil.copy(img_src, img_dst)\n",
    "                    img_found = True\n",
    "                    break\n",
    "\n",
    "            if not img_found:\n",
    "                print(f\"[WARNING] No image found for {label_file}\")\n",
    "\n",
    "    print(f\"✅ Dataset split complete! Saved in '{output_dir}'\")\n",
    "    print(f\"Train: {len(splits['train'])}, Val: {len(splits['val'])}, Test: {len(splits['test'])}\")\n",
    "\n",
    "split_yolo_dataset()\n"
   ]
  },
  {
   "cell_type": "code",
   "execution_count": null,
   "metadata": {
    "execution": {
     "iopub.execute_input": "2023-04-14T20:52:02.857777Z",
     "iopub.status.busy": "2023-04-14T20:52:02.856812Z",
     "iopub.status.idle": "2023-04-14T20:52:16.289887Z",
     "shell.execute_reply": "2023-04-14T20:52:16.288571Z",
     "shell.execute_reply.started": "2023-04-14T20:52:02.857731Z"
    },
    "id": "n537TujpYaXV",
    "trusted": true
   },
   "outputs": [],
   "source": [
    "import os\n",
    "import shutil\n",
    "%pip install pyyaml"
   ]
  },
  {
   "cell_type": "code",
   "execution_count": null,
   "metadata": {
    "execution": {
     "iopub.execute_input": "2023-04-14T20:52:16.292892Z",
     "iopub.status.busy": "2023-04-14T20:52:16.292493Z",
     "iopub.status.idle": "2023-04-14T20:52:16.318514Z",
     "shell.execute_reply": "2023-04-14T20:52:16.317597Z",
     "shell.execute_reply.started": "2023-04-14T20:52:16.292849Z"
    },
    "id": "4cTRUiDtgV0J",
    "trusted": true
   },
   "outputs": [],
   "source": [
    "import yaml\n"
   ]
  },
  {
   "cell_type": "code",
   "execution_count": null,
   "metadata": {
    "execution": {
     "iopub.execute_input": "2023-04-14T20:55:01.308068Z",
     "iopub.status.busy": "2023-04-14T20:55:01.307317Z",
     "iopub.status.idle": "2023-04-14T20:55:01.317285Z",
     "shell.execute_reply": "2023-04-14T20:55:01.316043Z",
     "shell.execute_reply.started": "2023-04-14T20:55:01.308027Z"
    },
    "id": "2gsRTntkgRW3",
    "trusted": true
   },
   "outputs": [],
   "source": [
    "# def create_yolo_yaml_config(yaml_filepath, dataset_path, dataset_labels):\n",
    "\n",
    "#     data = {'path':dataset_path,\n",
    "#             'train': os.path.join('images', 'train'),\n",
    "#             'validation': os.path.join('images', 'validation'),\n",
    "#             'names':{i:label for i, label in enumerate(dataset_labels)}\n",
    "#             }\n",
    "\n",
    "#     # Save the changes to the file\n",
    "#     with open(yaml_filepath, 'w') as fp:\n",
    "#         yaml.dump(data, fp, sort_keys=False)\n",
    "\n",
    "\n",
    "def create_yolo_yaml_config(\n",
    "    yaml_filepath,\n",
    "    dataset_path,\n",
    "    dataset_labels,\n",
    "    train_split=\"images/train\",\n",
    "    val_split=\"images/val\",\n",
    "    test_split=\"images/test\",\n",
    "    nc=1,\n",
    "    task=\"detect\",        # \"detect\", \"segment\", \"classify\", \"obb\"\n",
    "    model=\"yolov8n.pt\",   # default model, can change to yolov8s.pt, yolov8m.pt, etc.\n",
    "    epochs=100,\n",
    "    batch=16,\n",
    "    img_size=640,\n",
    "    lr0=0.01,\n",
    "    optimizer=\"SGD\"       # SGD, Adam, AdamW, RMSProp\n",
    "):\n",
    "    \"\"\"\n",
    "    Create a YOLOv8 YAML dataset config with customizable training parameters.\n",
    "    \"\"\"\n",
    "\n",
    "    if nc is None:\n",
    "        nc = len(dataset_labels)\n",
    "\n",
    "    data = {\n",
    "        # dataset setup\n",
    "        \"path\": dataset_path,\n",
    "        \"train\": train_split,\n",
    "        \"val\": val_split,\n",
    "        \"test\": test_split,\n",
    "        \"nc\": nc,\n",
    "        \"names\": {i: label for i, label in enumerate(dataset_labels)},\n",
    "\n",
    "        # training settings (Ultralytics trainer reads these if passed via CLI or Python API)\n",
    "        \"task\": task,\n",
    "        \"model\": model,\n",
    "        \"epochs\": epochs,\n",
    "        \"batch\": batch,\n",
    "        \"imgsz\": img_size,\n",
    "        \"lr0\": lr0,\n",
    "        \"optimizer\": optimizer,\n",
    "\n",
    "        # augmentation defaults (can be tuned)\n",
    "        \"hsv_h\": 0.015,  # image HSV-Hue augmentation (fraction)\n",
    "        \"hsv_s\": 0.7,    # HSV-Saturation augmentation (fraction)\n",
    "        \"hsv_v\": 0.4,    # HSV-Value augmentation (fraction)\n",
    "        \"flipud\": 0.0,   # image flip up-down (probability)\n",
    "        \"fliplr\": 0.5,   # image flip left-right (probability)\n",
    "        \"mosaic\": 1.0,   # mosaic augmentation (probability)\n",
    "        \"mixup\": 0.1     # mixup augmentation (probability)\n",
    "    }\n",
    "\n",
    "    # Save the YAML file\n",
    "    with open(yaml_filepath, \"w\") as fp:\n",
    "        yaml.dump(data, fp, sort_keys=False)\n",
    "\n",
    "    print(f\"✅ YOLO config YAML saved to {yaml_filepath}\")\n"
   ]
  },
  {
   "cell_type": "code",
   "execution_count": null,
   "metadata": {
    "execution": {
     "iopub.execute_input": "2023-04-14T21:00:42.069657Z",
     "iopub.status.busy": "2023-04-14T21:00:42.068864Z",
     "iopub.status.idle": "2023-04-14T21:00:42.075985Z",
     "shell.execute_reply": "2023-04-14T21:00:42.074884Z",
     "shell.execute_reply.started": "2023-04-14T21:00:42.069610Z"
    },
    "trusted": true
   },
   "outputs": [],
   "source": [
    "names = ['line']\n",
    "dataset_path = os.path.abspath(os.path.join('.', 'data')) # recommended to use absolute path \n",
    "yaml_filepath = os.path.join('.', 'config.yaml')\n",
    "create_yolo_yaml_config(yaml_filepath, dataset_path, names)\n",
    "class_ids = 0"
   ]
  },
  {
   "cell_type": "code",
   "execution_count": null,
   "metadata": {
    "execution": {
     "iopub.execute_input": "2023-04-14T21:03:11.276153Z",
     "iopub.status.busy": "2023-04-14T21:03:11.275192Z",
     "iopub.status.idle": "2023-04-14T21:03:11.283295Z",
     "shell.execute_reply": "2023-04-14T21:03:11.282165Z",
     "shell.execute_reply.started": "2023-04-14T21:03:11.276088Z"
    },
    "trusted": true
   },
   "outputs": [],
   "source": [
    "print(dataset_path, yaml_filepath)"
   ]
  },
  {
   "cell_type": "code",
   "execution_count": null,
   "metadata": {
    "execution": {
     "iopub.execute_input": "2023-04-14T21:04:50.363360Z",
     "iopub.status.busy": "2023-04-14T21:04:50.362831Z",
     "iopub.status.idle": "2023-04-14T21:05:08.432993Z",
     "shell.execute_reply": "2023-04-14T21:05:08.431712Z",
     "shell.execute_reply.started": "2023-04-14T21:04:50.363315Z"
    },
    "id": "LpzPSI1q2Zxz",
    "trusted": true
   },
   "outputs": [],
   "source": [
    "%pip install ultralytics\n",
    "import ultralytics\n",
    "ultralytics.checks()"
   ]
  },
  {
   "cell_type": "code",
   "execution_count": null,
   "metadata": {
    "execution": {
     "iopub.execute_input": "2023-04-14T22:53:06.623629Z",
     "iopub.status.busy": "2023-04-14T22:53:06.622609Z",
     "iopub.status.idle": "2023-04-15T00:05:23.098438Z",
     "shell.execute_reply": "2023-04-15T00:05:23.097358Z",
     "shell.execute_reply.started": "2023-04-14T22:53:06.623566Z"
    },
    "id": "cCnadnO1psAW",
    "trusted": true
   },
   "outputs": [],
   "source": [
    "from ultralytics import YOLO\n",
    "\n",
    "\n",
    "# Load a model\n",
    "model = YOLO(\"yolov8m.pt\")  # build a new model from scratch\n",
    "\n",
    "# Use the model\n",
    "results = model.train(data='./config.yaml', \n",
    "                      epochs=100)  # train the model\n"
   ]
  }
 ],
 "metadata": {
  "colab": {
   "provenance": []
  },
  "kernelspec": {
   "display_name": "base",
   "language": "python",
   "name": "python3"
  },
  "language_info": {
   "codemirror_mode": {
    "name": "ipython",
    "version": 3
   },
   "file_extension": ".py",
   "mimetype": "text/x-python",
   "name": "python",
   "nbconvert_exporter": "python",
   "pygments_lexer": "ipython3",
   "version": "3.13.7"
  }
 },
 "nbformat": 4,
 "nbformat_minor": 4
}
